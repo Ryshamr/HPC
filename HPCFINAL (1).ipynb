{
 "cells": [
  {
   "cell_type": "code",
   "execution_count": 22,
   "metadata": {
    "colab": {
     "base_uri": "https://localhost:8080/"
    },
    "id": "9oUth0GJvJiD",
    "outputId": "91fc0665-25d4-42ae-bc94-a8ca76af3bac"
   },
   "outputs": [
    {
     "name": "stdout",
     "output_type": "stream",
     "text": [
      "Sun Apr 14 19:53:55 2024       \n",
      "+---------------------------------------------------------------------------------------+\n",
      "| NVIDIA-SMI 535.104.05             Driver Version: 535.104.05   CUDA Version: 12.2     |\n",
      "|-----------------------------------------+----------------------+----------------------+\n",
      "| GPU  Name                 Persistence-M | Bus-Id        Disp.A | Volatile Uncorr. ECC |\n",
      "| Fan  Temp   Perf          Pwr:Usage/Cap |         Memory-Usage | GPU-Util  Compute M. |\n",
      "|                                         |                      |               MIG M. |\n",
      "|=========================================+======================+======================|\n",
      "|   0  Tesla T4                       Off | 00000000:00:04.0 Off |                    0 |\n",
      "| N/A   37C    P8               9W /  70W |      0MiB / 15360MiB |      0%      Default |\n",
      "|                                         |                      |                  N/A |\n",
      "+-----------------------------------------+----------------------+----------------------+\n",
      "                                                                                         \n",
      "+---------------------------------------------------------------------------------------+\n",
      "| Processes:                                                                            |\n",
      "|  GPU   GI   CI        PID   Type   Process name                            GPU Memory |\n",
      "|        ID   ID                                                             Usage      |\n",
      "|=======================================================================================|\n",
      "|  No running processes found                                                           |\n",
      "+---------------------------------------------------------------------------------------+\n"
     ]
    }
   ],
   "source": [
    "!nvidia-smi"
   ]
  },
  {
   "cell_type": "code",
   "execution_count": 23,
   "metadata": {
    "colab": {
     "base_uri": "https://localhost:8080/"
    },
    "id": "pWIzrmLmvLmA",
    "outputId": "17de673b-62c2-45e2-9caa-fd0625182e2f"
   },
   "outputs": [
    {
     "name": "stdout",
     "output_type": "stream",
     "text": [
      "nvcc: NVIDIA (R) Cuda compiler driver\n",
      "Copyright (c) 2005-2023 NVIDIA Corporation\n",
      "Built on Tue_Aug_15_22:02:13_PDT_2023\n",
      "Cuda compilation tools, release 12.2, V12.2.140\n",
      "Build cuda_12.2.r12.2/compiler.33191640_0\n"
     ]
    }
   ],
   "source": [
    "!nvcc --version"
   ]
  },
  {
   "cell_type": "code",
   "execution_count": 24,
   "metadata": {
    "colab": {
     "base_uri": "https://localhost:8080/"
    },
    "id": "yQspAPvCvWvc",
    "outputId": "8c58bc98-c822-4dc1-961e-f482bbf64778"
   },
   "outputs": [
    {
     "name": "stdout",
     "output_type": "stream",
     "text": [
      "fatal: destination path 'cuda-samples' already exists and is not an empty directory.\n"
     ]
    }
   ],
   "source": [
    "\n",
    "!git clone https://github.com/NVIDIA/cuda-samples.git"
   ]
  },
  {
   "cell_type": "code",
   "execution_count": 25,
   "metadata": {
    "colab": {
     "base_uri": "https://localhost:8080/"
    },
    "id": "OX7SMuJBvaWu",
    "outputId": "d88d53bf-99f1-4c9c-d307-2f848414b9ff"
   },
   "outputs": [
    {
     "name": "stdout",
     "output_type": "stream",
     "text": [
      "make: Nothing to be done for 'all'.\n"
     ]
    }
   ],
   "source": [
    "!cd cuda-samples/Samples/1_Utilities/deviceQuery && make\n"
   ]
  },
  {
   "cell_type": "code",
   "execution_count": 26,
   "metadata": {
    "colab": {
     "base_uri": "https://localhost:8080/"
    },
    "id": "Iw6zZyoevb9c",
    "outputId": "a6941af8-adec-4b35-bca1-e2aea0f83854"
   },
   "outputs": [
    {
     "name": "stdout",
     "output_type": "stream",
     "text": [
      "deviceQuery\t deviceQuery_vs2017.sln      deviceQuery_vs2019.vcxproj  Makefile\n",
      "deviceQuery.cpp  deviceQuery_vs2017.vcxproj  deviceQuery_vs2022.sln\t NsightEclipse.xml\n",
      "deviceQuery.o\t deviceQuery_vs2019.sln      deviceQuery_vs2022.vcxproj  README.md\n",
      "cuda-samples/Samples/1_Utilities/deviceQuery/./deviceQuery Starting...\n",
      "\n",
      " CUDA Device Query (Runtime API) version (CUDART static linking)\n",
      "\n",
      "Detected 1 CUDA Capable device(s)\n",
      "\n",
      "Device 0: \"Tesla T4\"\n",
      "  CUDA Driver Version / Runtime Version          12.2 / 12.2\n",
      "  CUDA Capability Major/Minor version number:    7.5\n",
      "  Total amount of global memory:                 15102 MBytes (15835660288 bytes)\n",
      "  (040) Multiprocessors, (064) CUDA Cores/MP:    2560 CUDA Cores\n",
      "  GPU Max Clock rate:                            1590 MHz (1.59 GHz)\n",
      "  Memory Clock rate:                             5001 Mhz\n",
      "  Memory Bus Width:                              256-bit\n",
      "  L2 Cache Size:                                 4194304 bytes\n",
      "  Maximum Texture Dimension Size (x,y,z)         1D=(131072), 2D=(131072, 65536), 3D=(16384, 16384, 16384)\n",
      "  Maximum Layered 1D Texture Size, (num) layers  1D=(32768), 2048 layers\n",
      "  Maximum Layered 2D Texture Size, (num) layers  2D=(32768, 32768), 2048 layers\n",
      "  Total amount of constant memory:               65536 bytes\n",
      "  Total amount of shared memory per block:       49152 bytes\n",
      "  Total shared memory per multiprocessor:        65536 bytes\n",
      "  Total number of registers available per block: 65536\n",
      "  Warp size:                                     32\n",
      "  Maximum number of threads per multiprocessor:  1024\n",
      "  Maximum number of threads per block:           1024\n",
      "  Max dimension size of a thread block (x,y,z): (1024, 1024, 64)\n",
      "  Max dimension size of a grid size    (x,y,z): (2147483647, 65535, 65535)\n",
      "  Maximum memory pitch:                          2147483647 bytes\n",
      "  Texture alignment:                             512 bytes\n",
      "  Concurrent copy and kernel execution:          Yes with 3 copy engine(s)\n",
      "  Run time limit on kernels:                     No\n",
      "  Integrated GPU sharing Host Memory:            No\n",
      "  Support host page-locked memory mapping:       Yes\n",
      "  Alignment requirement for Surfaces:            Yes\n",
      "  Device has ECC support:                        Enabled\n",
      "  Device supports Unified Addressing (UVA):      Yes\n",
      "  Device supports Managed Memory:                Yes\n",
      "  Device supports Compute Preemption:            Yes\n",
      "  Supports Cooperative Kernel Launch:            Yes\n",
      "  Supports MultiDevice Co-op Kernel Launch:      Yes\n",
      "  Device PCI Domain ID / Bus ID / location ID:   0 / 0 / 4\n",
      "  Compute Mode:\n",
      "     < Default (multiple host threads can use ::cudaSetDevice() with device simultaneously) >\n",
      "\n",
      "deviceQuery, CUDA Driver = CUDART, CUDA Driver Version = 12.2, CUDA Runtime Version = 12.2, NumDevs = 1\n",
      "Result = PASS\n"
     ]
    }
   ],
   "source": [
    "!cd cuda-samples/Samples/1_Utilities/deviceQuery && ls\n",
    "!cuda-samples/Samples/1_Utilities/deviceQuery/./deviceQuery"
   ]
  },
  {
   "cell_type": "code",
   "execution_count": 27,
   "metadata": {
    "colab": {
     "base_uri": "https://localhost:8080/"
    },
    "id": "Vl9f9s6UveMX",
    "outputId": "64012378-91ae-4342-e55f-c1f0e86fb379"
   },
   "outputs": [
    {
     "name": "stdout",
     "output_type": "stream",
     "text": [
      "Requirement already satisfied: nvcc4jupyter in /usr/local/lib/python3.10/dist-packages (1.2.1)\n"
     ]
    }
   ],
   "source": [
    "!pip install nvcc4jupyter"
   ]
  },
  {
   "cell_type": "code",
   "execution_count": 28,
   "metadata": {
    "colab": {
     "base_uri": "https://localhost:8080/"
    },
    "id": "ucsKGSOjvgCf",
    "outputId": "1c2247f2-1bf7-44d0-fa7e-490e7a6be277"
   },
   "outputs": [
    {
     "name": "stdout",
     "output_type": "stream",
     "text": [
      "The nvcc4jupyter extension is already loaded. To reload it, use:\n",
      "  %reload_ext nvcc4jupyter\n"
     ]
    }
   ],
   "source": [
    "%load_ext nvcc4jupyter"
   ]
  },
  {
   "cell_type": "code",
   "execution_count": null,
   "metadata": {
    "id": "hQYCn5Uweio8"
   },
   "outputs": [],
   "source": []
  },
  {
   "cell_type": "code",
   "execution_count": 30,
   "metadata": {
    "colab": {
     "base_uri": "https://localhost:8080/"
    },
    "id": "_mF528HYwDMZ",
    "outputId": "6ac620c1-4e9c-4c93-8bbf-f022b2a0bd9f"
   },
   "outputs": [
    {
     "name": "stdout",
     "output_type": "stream",
     "text": [
      "Writing NOCUDA.cpp\n"
     ]
    }
   ],
   "source": [
    "%%writefile NOCUDA.cpp\n",
    "\n",
    "#include <iostream>\n",
    "#include <vector>\n",
    "#include <ctime>\n",
    "#include <cstdlib>\n",
    "#include <cmath>\n",
    "\n",
    "#define GENOME_LENGTH 16\n",
    "#define NUMBER_CHROMOSOMES 1024\n",
    "#define GENE_MIN -1\n",
    "#define GENE_MAX 1\n",
    "#define MUTATION_FACTOR 0.2\n",
    "#define CROSSOVER_RATE 0.6\n",
    "#define NUM_EPOCHS 1000\n",
    "\n",
    "using namespace std;\n",
    "\n",
    "typedef long double HighlyPrecise;\n",
    "\n",
    "typedef struct {\n",
    "    HighlyPrecise genes[GENOME_LENGTH];\n",
    "    HighlyPrecise fitnessValue;\n",
    "} Chromosome;\n",
    "\n",
    "HighlyPrecise geneValueDistribution() {\n",
    "    return ((HighlyPrecise)rand() / RAND_MAX) * (GENE_MAX - GENE_MIN) + GENE_MIN;\n",
    "}\n",
    "\n",
    "void initializePopulation(vector<Chromosome>& population) {\n",
    "    for (int i = 0; i < NUMBER_CHROMOSOMES; i++) {\n",
    "        Chromosome chromosome;\n",
    "        for (int j = 0; j < GENOME_LENGTH; j++) {\n",
    "            chromosome.genes[j] = geneValueDistribution();\n",
    "        }\n",
    "        population.push_back(chromosome);\n",
    "    }\n",
    "}\n",
    "\n",
    "HighlyPrecise getFitnessValue(Chromosome chromosome) {\n",
    "    HighlyPrecise value = 0.0;\n",
    "    for (int i = 0; i < GENOME_LENGTH; i++) {\n",
    "        value += chromosome.genes[i] * chromosome.genes[i];\n",
    "    }\n",
    "    return value;\n",
    "}\n",
    "\n",
    "Chromosome crossover(Chromosome male, Chromosome female) {\n",
    "    int mid = GENOME_LENGTH / 2;\n",
    "    Chromosome offspring;\n",
    "    for (int i = 0; i < GENOME_LENGTH; i++) {\n",
    "        offspring.genes[i] = (i <= mid) ? male.genes[i] : female.genes[i];\n",
    "    }\n",
    "    return offspring;\n",
    "}\n",
    "\n",
    "void mutate(Chromosome& chromosome) {\n",
    "    for (int i = 0; i < GENOME_LENGTH; i++) {\n",
    "        HighlyPrecise multiplier = ((HighlyPrecise)rand() / RAND_MAX) * 0.2 - 0.1;\n",
    "        chromosome.genes[i] *= multiplier;\n",
    "    }\n",
    "}\n",
    "\n",
    "void startIteration(vector<Chromosome>& population) {\n",
    "    int num_parents = (int)(NUMBER_CHROMOSOMES * (1 - CROSSOVER_RATE));\n",
    "    int num_offsprings = NUMBER_CHROMOSOMES - num_parents;\n",
    "\n",
    "    for (int i = num_parents; i < NUMBER_CHROMOSOMES; i++) {\n",
    "        int fatherIndex = rand() % num_parents;\n",
    "        int motherIndex = rand() % num_parents;\n",
    "        if (motherIndex == fatherIndex) {\n",
    "            continue;\n",
    "        }\n",
    "\n",
    "        Chromosome male = population[fatherIndex];\n",
    "        Chromosome female = population[motherIndex];\n",
    "        Chromosome offspring = crossover(male, female);\n",
    "\n",
    "        if (MUTATION_FACTOR >= ((HighlyPrecise)rand() / RAND_MAX)) {\n",
    "            mutate(offspring);\n",
    "        }\n",
    "        population[i] = offspring;\n",
    "    }\n",
    "}\n",
    "\n",
    "void geneticAlgorithm(vector<Chromosome>& population, Chromosome& best) {\n",
    "    clock_t start = clock();\n",
    "\n",
    "    for (int z = 0; z < NUM_EPOCHS; z++) {\n",
    "        startIteration(population);\n",
    "    }\n",
    "\n",
    "    clock_t end = clock();\n",
    "    double time_spent = (double)(end - start) / CLOCKS_PER_SEC;\n",
    "    cout << \"Execution time (s): \" << time_spent << endl;\n",
    "\n",
    "    best = population[0];\n",
    "}\n",
    "\n",
    "void printChromosome(Chromosome chromosome) {\n",
    "    cout << \"Chromosome: \";\n",
    "    for (int i = 0; i < GENOME_LENGTH; i++) {\n",
    "        cout << chromosome.genes[i] << \" \";\n",
    "    }\n",
    "    cout << endl << \"Fitness: \" << chromosome.fitnessValue << endl;\n",
    "}\n",
    "\n",
    "int main() {\n",
    "    srand(time(NULL));\n",
    "\n",
    "    vector<Chromosome> population;\n",
    "    Chromosome best;\n",
    "\n",
    "    initializePopulation(population);\n",
    "    geneticAlgorithm(population, best);\n",
    "\n",
    "    cout << \"==== CPU Results ====\" << endl;\n",
    "    printChromosome(best);\n",
    "\n",
    "    return 0;\n",
    "}\n"
   ]
  },
  {
   "cell_type": "code",
   "execution_count": 35,
   "metadata": {
    "id": "TONtSSdAwP94"
   },
   "outputs": [],
   "source": [
    "! g++ NOCUDA.cpp -o NOCUDA"
   ]
  },
  {
   "cell_type": "code",
   "execution_count": 36,
   "metadata": {
    "colab": {
     "base_uri": "https://localhost:8080/"
    },
    "id": "jjTsffBkwVcl",
    "outputId": "2ea71ad6-c237-49b4-940b-6a485ce4176d"
   },
   "outputs": [
    {
     "name": "stdout",
     "output_type": "stream",
     "text": [
      "Execution time (s): 0.232576\n",
      "==== CPU Results ====\n",
      "Chromosome: -0.781291 -0.904536 -0.581516 -0.0676536 0.730351 0.247694 -0.463701 0.0100267 0.14065 -0.837937 -0.093677 -0.119095 -0.704239 -0.355675 0.927895 0.267829 \n",
      "Fitness: nan\n"
     ]
    }
   ],
   "source": [
    " ! ./NOCUDA"
   ]
  },
  {
   "cell_type": "code",
   "execution_count": 37,
   "metadata": {
    "colab": {
     "base_uri": "https://localhost:8080/"
    },
    "id": "YLLNJPYyenQS",
    "outputId": "092aca52-6446-4ad4-8011-234139a80875"
   },
   "outputs": [
    {
     "name": "stdout",
     "output_type": "stream",
     "text": [
      "Execution time (s): 0.0004320000\n",
      "==== GPU Results (N = 2) ====\n",
      "Chromosome: 0 0 0 0 0 7.2904e-4951 0 0 0 0 0 0 0 0 0 0 \n",
      "Fitness: 0\n",
      "Execution time (s): 0.0004440000\n",
      "==== GPU Results (N = 3) ====\n",
      "Chromosome: 0 0 0 0 0 7.2904e-4951 0 0 0 0 0 0 0 0 0 0 \n",
      "Fitness: 0\n",
      "Execution time (s): 0.0004740000\n",
      "==== GPU Results (N = 4) ====\n",
      "Chromosome: 0 0 0 0 0 7.2904e-4951 0 0 0 0 0 0 0 0 0 0 \n",
      "Fitness: 0\n",
      "Execution time (s): 0.0004310000\n",
      "==== GPU Results (N = 5) ====\n",
      "Chromosome: 0 0 0 0 0 7.2904e-4951 0 0 0 0 0 0 0 0 0 0 \n",
      "Fitness: 0\n",
      "Execution time (s): 0.0005030000\n",
      "==== GPU Results (N = 6) ====\n",
      "Chromosome: 0 0 0 0 0 7.2904e-4951 0 0 0 0 0 0 0 0 0 0 \n",
      "Fitness: 0\n",
      "Execution time (s): 0.0004370000\n",
      "==== GPU Results (N = 7) ====\n",
      "Chromosome: 0 0 0 0 0 7.2904e-4951 0 0 0 0 0 0 0 0 0 0 \n",
      "Fitness: 0\n",
      "Execution time (s): 0.0004370000\n",
      "==== GPU Results (N = 8) ====\n",
      "Chromosome: 0 0 0 0 0 7.2904e-4951 0 0 0 0 0 0 0 0 0 0 \n",
      "Fitness: 0\n",
      "Execution time (s): 0.0004260000\n",
      "==== GPU Results (N = 9) ====\n",
      "Chromosome: 0 0 0 0 0 7.2904e-4951 0 0 0 0 0 0 0 0 0 0 \n",
      "Fitness: 0\n",
      "Execution time (s): 0.0004090000\n",
      "==== GPU Results (N = 10) ====\n",
      "Chromosome: 0 0 0 0 0 7.2904e-4951 0 0 0 0 0 0 0 0 0 0 \n",
      "Fitness: 0\n",
      "Execution time (s): 0.0003940000\n",
      "==== GPU Results (N = 11) ====\n",
      "Chromosome: 0 0 0 0 0 7.2904e-4951 0 0 0 0 0 0 0 0 0 0 \n",
      "Fitness: 0\n",
      "Execution time (s): 0.0004060000\n",
      "==== GPU Results (N = 12) ====\n",
      "Chromosome: 0 0 0 0 0 7.2904e-4951 0 0 0 0 0 0 0 0 0 0 \n",
      "Fitness: 0\n",
      "Execution time (s): 0.0004180000\n",
      "==== GPU Results (N = 13) ====\n",
      "Chromosome: 0 0 0 0 0 7.2904e-4951 0 0 0 0 0 0 0 0 0 0 \n",
      "Fitness: 0\n",
      "Execution time (s): 0.0004220000\n",
      "==== GPU Results (N = 14) ====\n",
      "Chromosome: 0 0 0 0 0 7.2904e-4951 0 0 0 0 0 0 0 0 0 0 \n",
      "Fitness: 0\n",
      "Execution time (s): 0.0004960000\n",
      "==== GPU Results (N = 15) ====\n",
      "Chromosome: 0 0 0 0 0 7.2904e-4951 0 0 0 0 0 0 0 0 0 0 \n",
      "Fitness: 0\n",
      "Execution time (s): 0.0005150000\n",
      "==== GPU Results (N = 16) ====\n",
      "Chromosome: 0 0 0 0 0 7.2904e-4951 0 0 0 0 0 0 0 0 0 0 \n",
      "Fitness: 0\n",
      "Execution time (s): 0.0004980000\n",
      "==== GPU Results (N = 17) ====\n",
      "Chromosome: 0 0 0 0 0 7.2904e-4951 0 0 0 0 0 0 0 0 0 0 \n",
      "Fitness: 0\n",
      "Execution time (s): 0.0004970000\n",
      "==== GPU Results (N = 18) ====\n",
      "Chromosome: 0 0 0 0 0 7.2904e-4951 0 0 0 0 0 0 0 0 0 0 \n",
      "Fitness: 0\n",
      "Execution time (s): 0.0004720000\n",
      "==== GPU Results (N = 19) ====\n",
      "Chromosome: 0 0 0 0 0 7.2904e-4951 0 0 0 0 0 0 0 0 0 0 \n",
      "Fitness: 0\n",
      "Execution time (s): 0.0004920000\n",
      "==== GPU Results (N = 20) ====\n",
      "Chromosome: 0 0 0 0 0 7.2904e-4951 0 0 0 0 0 0 0 0 0 0 \n",
      "Fitness: 0\n",
      "\n"
     ]
    }
   ],
   "source": [
    "%%cuda\n",
    "#include <iostream>\n",
    "#include <vector>\n",
    "#include <curand_kernel.h>\n",
    "#include <cmath> // For pow function\n",
    "\n",
    "#define GENOME_LENGTH 16\n",
    "#define NUMBER_CHROMOSOMES 1024\n",
    "#define GENE_MIN -1\n",
    "#define GENE_MAX 1\n",
    "#define MUTATION_FACTOR 0.2\n",
    "#define CROSSOVER_RATE 0.6\n",
    "#define NUM_EPOCHS 1000\n",
    "\n",
    "using namespace std;\n",
    "\n",
    "typedef long double HighlyPrecise;\n",
    "\n",
    "typedef struct {\n",
    "    HighlyPrecise genes[GENOME_LENGTH];\n",
    "    HighlyPrecise fitnessValue;\n",
    "} Chromosome;\n",
    "\n",
    "__device__ HighlyPrecise getFitnessValue(Chromosome chromosome) {\n",
    "    HighlyPrecise value = 0.0;\n",
    "    for (int i = 0; i < GENOME_LENGTH; i++) {\n",
    "        value += chromosome.genes[i] * chromosome.genes[i];\n",
    "    }\n",
    "    return value;\n",
    "}\n",
    "\n",
    "__device__ HighlyPrecise geneValueDistribution(curandState* state) {\n",
    "    return ((HighlyPrecise)curand_uniform(state) / RAND_MAX) * (GENE_MAX - GENE_MIN) + GENE_MIN;\n",
    "}\n",
    "\n",
    "__global__ void initializePopulation(Chromosome* population, curandState* states) {\n",
    "    int idx = threadIdx.x + blockIdx.x * blockDim.x;\n",
    "    curandState localState = states[idx];\n",
    "    for (int j = 0; j < GENOME_LENGTH; j++) {\n",
    "        population[idx].genes[j] = geneValueDistribution(&localState);\n",
    "    }\n",
    "    population[idx].fitnessValue = getFitnessValue(population[idx]);\n",
    "}\n",
    "\n",
    "__device__ Chromosome crossover(Chromosome male, Chromosome female, curandState* state) {\n",
    "    int mid = GENOME_LENGTH / 2;\n",
    "    Chromosome offspring;\n",
    "    for (int i = 0; i < GENOME_LENGTH; i++) {\n",
    "        offspring.genes[i] = (i <= mid) ? male.genes[i] : female.genes[i];\n",
    "    }\n",
    "    return offspring;\n",
    "}\n",
    "\n",
    "__device__ void mutate(Chromosome* chromosome, curandState* state) {\n",
    "    for (int i = 0; i < GENOME_LENGTH; i++) {\n",
    "        HighlyPrecise multiplier = ((HighlyPrecise)curand_uniform(state) / RAND_MAX) * 0.2 - 0.1;\n",
    "        chromosome->genes[i] *= multiplier;\n",
    "    }\n",
    "}\n",
    "\n",
    "__global__ void startIteration(Chromosome* population, curandState* states) {\n",
    "    int idx = threadIdx.x + blockIdx.x * blockDim.x;\n",
    "    int num_parents = (int)(NUMBER_CHROMOSOMES * (1 - CROSSOVER_RATE));\n",
    "    curandState localState = states[idx];\n",
    "\n",
    "    if (idx >= num_parents) {\n",
    "        int fatherIndex = curand_uniform(&localState) * num_parents;\n",
    "        int motherIndex = curand_uniform(&localState) * num_parents;\n",
    "        if (motherIndex == fatherIndex) {\n",
    "            return;\n",
    "        }\n",
    "\n",
    "        Chromosome male = population[fatherIndex];\n",
    "        Chromosome female = population[motherIndex];\n",
    "        Chromosome offspring = crossover(male, female, &localState);\n",
    "\n",
    "        if (MUTATION_FACTOR >= curand_uniform(&localState)) {\n",
    "            mutate(&offspring, &localState);\n",
    "        }\n",
    "        population[idx] = offspring;\n",
    "    }\n",
    "}\n",
    "\n",
    "void geneticAlgorithm(Chromosome* d_population, Chromosome* d_best, curandState* d_states) {\n",
    "    clock_t start = clock();\n",
    "\n",
    "    for (int z = 0; z < NUM_EPOCHS; z++) {\n",
    "        startIteration<<<1, NUMBER_CHROMOSOMES>>>(d_population, d_states);\n",
    "        cudaDeviceSynchronize();\n",
    "    }\n",
    "\n",
    "    clock_t end = clock();\n",
    "    double time_spent = (double)(end - start) / CLOCKS_PER_SEC;\n",
    "    printf(\"Execution time (s): %.10lf\\n\", time_spent);\n",
    "\n",
    "    cudaMemcpy(d_best, d_population, sizeof(Chromosome), cudaMemcpyDeviceToDevice);\n",
    "}\n",
    "\n",
    "void printChromosome(Chromosome chromosome) {\n",
    "    cout << \"Chromosome: \";\n",
    "    for (int i = 0; i < GENOME_LENGTH; i++) {\n",
    "        cout << chromosome.genes[i] << \" \";\n",
    "    }\n",
    "    cout << endl << \"Fitness: \" << chromosome.fitnessValue << endl;\n",
    "}\n",
    "\n",
    "int main() {\n",
    "    srand(time(NULL));\n",
    "\n",
    "    Chromosome* d_population, * d_best;\n",
    "    Chromosome* population = new Chromosome[NUMBER_CHROMOSOMES];\n",
    "    Chromosome best;\n",
    "\n",
    "    curandState* d_states;\n",
    "\n",
    "    // Loop over different values of N (threads per block)\n",
    "    for (int N = 2; N <= 20; N++) {\n",
    "        cudaMalloc(&d_population, NUMBER_CHROMOSOMES * sizeof(Chromosome));\n",
    "        cudaMalloc(&d_best, sizeof(Chromosome));\n",
    "        cudaMalloc(&d_states, NUMBER_CHROMOSOMES * N * sizeof(curandState));\n",
    "\n",
    "        initializePopulation<<<NUMBER_CHROMOSOMES, N>>>(d_population, d_states);\n",
    "        cudaDeviceSynchronize();\n",
    "\n",
    "        geneticAlgorithm(d_population, d_best, d_states);\n",
    "        cudaMemcpy(&best, d_best, sizeof(Chromosome), cudaMemcpyDeviceToHost);\n",
    "\n",
    "        cout << \"==== GPU Results (N = \" << N << \") ====\" << endl;\n",
    "        printChromosome(best);\n",
    "\n",
    "        cudaFree(d_population);\n",
    "        cudaFree(d_best);\n",
    "        cudaFree(d_states);\n",
    "    }\n",
    "\n",
    "    delete[] population;\n",
    "\n",
    "    return 0;\n",
    "}\n"
   ]
  },
  {
   "cell_type": "code",
   "execution_count": null,
   "metadata": {
    "id": "cuA0ZRTU8ZKc"
   },
   "outputs": [],
   "source": []
  }
 ],
 "metadata": {
  "accelerator": "GPU",
  "colab": {
   "gpuType": "T4",
   "provenance": []
  },
  "kernelspec": {
   "display_name": "Python 3 (ipykernel)",
   "language": "python",
   "name": "python3"
  },
  "language_info": {
   "codemirror_mode": {
    "name": "ipython",
    "version": 3
   },
   "file_extension": ".py",
   "mimetype": "text/x-python",
   "name": "python",
   "nbconvert_exporter": "python",
   "pygments_lexer": "ipython3",
   "version": "3.11.8"
  }
 },
 "nbformat": 4,
 "nbformat_minor": 4
}
